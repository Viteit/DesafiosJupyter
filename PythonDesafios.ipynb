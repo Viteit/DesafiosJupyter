{
 "cells": [
  {
   "attachments": {},
   "cell_type": "markdown",
   "metadata": {},
   "source": [
    "# Crie um programa que escreva \"Olá, Mundo!\" na tela."
   ]
  },
  {
   "cell_type": "code",
   "execution_count": 2,
   "metadata": {},
   "outputs": [
    {
     "name": "stdout",
     "output_type": "stream",
     "text": [
      "Olá, mundo!\n"
     ]
    }
   ],
   "source": [
    "msg = 'Olá, mundo!'\n",
    "print(msg)"
   ]
  },
  {
   "attachments": {},
   "cell_type": "markdown",
   "metadata": {},
   "source": [
    "# Faça um programa que leia o nome de uma pessoa e mostre uma mensagem de boas-vindas."
   ]
  },
  {
   "cell_type": "code",
   "execution_count": 1,
   "metadata": {},
   "outputs": [
    {
     "name": "stdout",
     "output_type": "stream",
     "text": [
      "Sejam bem vindos Vitor e Vinicius.\n"
     ]
    }
   ],
   "source": [
    "n = input('Qual é o seu nome? ')\n",
    "a = input('Qual é o seu nome? ')\n",
    "print('Sejam bem vindos {} e {}.'.format(n, a))"
   ]
  },
  {
   "attachments": {},
   "cell_type": "markdown",
   "metadata": {},
   "source": [
    "# Crie um programa que leia dois número e mostre a soma entre eles."
   ]
  },
  {
   "cell_type": "code",
   "execution_count": 3,
   "metadata": {},
   "outputs": [
    {
     "name": "stdout",
     "output_type": "stream",
     "text": [
      "A soma entre 2 e 5 é igual a 7\n"
     ]
    }
   ],
   "source": [
    "n1 =int(input('Digite um número:'))\n",
    "n2 =int(input('Digite mais um número:'))\n",
    "s = n1 + n2\n",
    "print('A soma entre {} e {} é igual a {}'.format(n1, n2, s))"
   ]
  },
  {
   "attachments": {},
   "cell_type": "markdown",
   "metadata": {},
   "source": [
    "# Faça um programa que leia algo pelo teclado e mostre na tela o seu tipo primitivo e todas as informações possiveis sobre ele."
   ]
  },
  {
   "cell_type": "code",
   "execution_count": 4,
   "metadata": {},
   "outputs": [
    {
     "name": "stdout",
     "output_type": "stream",
     "text": [
      "O tipo primitivo desse valor é <class 'str'>\n",
      "Só tem espaços? False\n",
      "É um número? False\n",
      "É alfabético? True\n",
      "É alfanumérico? True\n",
      "Está em maiúsculas? False\n",
      "Está em minúsculas? True\n",
      "Está capitalizada? False\n"
     ]
    }
   ],
   "source": [
    "n = input('Digite algo: ')\n",
    "print(f'O tipo primitivo desse valor é {type(n)}')\n",
    "print(f'Só tem espaços? {n.isspace()}')\n",
    "print(f'É um número? {n.isnumeric()}')\n",
    "print(f'É alfabético? {n.isalpha()}')\n",
    "print(f'É alfanumérico? {n.isalnum()}')\n",
    "print(f'Está em maiúsculas? {n.isupper()}')\n",
    "print(f'Está em minúsculas? {n.islower()}')\n",
    "print(f'Está capitalizada? {n.istitle()}')"
   ]
  },
  {
   "attachments": {},
   "cell_type": "markdown",
   "metadata": {},
   "source": [
    "# Faça um programa que leia um número inteiro e mostre na tela o seu sucessor e seu antecessor."
   ]
  },
  {
   "cell_type": "code",
   "execution_count": 5,
   "metadata": {},
   "outputs": [
    {
     "name": "stdout",
     "output_type": "stream",
     "text": [
      "Analisando o número 2, seu antecessor é 1, e o sucessor é 3.\n"
     ]
    }
   ],
   "source": [
    "n = int(input('Digite um número:'))\n",
    "a = n - 1\n",
    "s = n + 1\n",
    "print('Analisando o número {}, seu antecessor é {}, e o sucessor é {}.'.format(n, a, s))\n"
   ]
  },
  {
   "attachments": {},
   "cell_type": "markdown",
   "metadata": {},
   "source": [
    "# Crie um algoritmo que leia um número e mostre o seu dobro, triplo e raiz quadrada."
   ]
  },
  {
   "cell_type": "code",
   "execution_count": 6,
   "metadata": {},
   "outputs": [
    {
     "name": "stdout",
     "output_type": "stream",
     "text": [
      "O dobro de 10 vale 20. \n",
      "O trriplo de 10 vale 30. \n",
      "A raiz quadrada de 10 é igual a 3.1622776601683795.\n"
     ]
    }
   ],
   "source": [
    "n = int(input('Digite um número:'))\n",
    "d = n * 2\n",
    "t = n * 3\n",
    "r2 = n ** (1/2)\n",
    "print('O dobro de {} vale {}. \\nO trriplo de {} vale {}. \\nA raiz quadrada de {} é igual a {}.'.format(n, d, n, t, n, r2))\n"
   ]
  },
  {
   "attachments": {},
   "cell_type": "markdown",
   "metadata": {},
   "source": [
    "# Desenvolva um programa que leia as duas notas de um aluno, calcule e mostre a sua média."
   ]
  },
  {
   "cell_type": "code",
   "execution_count": 10,
   "metadata": {},
   "outputs": [
    {
     "name": "stdout",
     "output_type": "stream",
     "text": [
      "A média entre 7.9 e 9.8 é igual a 8.9\n"
     ]
    }
   ],
   "source": [
    "n1 = float(input('Primeira nota do aluno:'))\n",
    "n2 = float(input('Segunda nota do aluno:'))\n",
    "m = (n1 + n2) / 2\n",
    "print('A média entre {:.1f} e {:.1f} é igual a {:.1f}'.format(n1, n2, m))\n"
   ]
  },
  {
   "attachments": {},
   "cell_type": "markdown",
   "metadata": {},
   "source": [
    "# Escreva um programa que leia um valor em metros e o exiba convertido em centímetros e milímetros."
   ]
  },
  {
   "cell_type": "code",
   "execution_count": 11,
   "metadata": {},
   "outputs": [
    {
     "name": "stdout",
     "output_type": "stream",
     "text": [
      "A medida de 98.0m corresponde a: \n",
      "0.098km \n",
      "0.98hm \n",
      "9.8dam \n",
      "980dm \n",
      "9800cm \n",
      "98000mm\n"
     ]
    }
   ],
   "source": [
    "n = float(input('Uma distância em metros:'))\n",
    "km = n / 1000\n",
    "hm = n / 100\n",
    "dam = n / 10\n",
    "dm = n * 10\n",
    "cm = n * 100\n",
    "mm = n * 1000\n",
    "print('A medida de {}m corresponde a: \\n{}km \\n{}hm \\n{}dam \\n{:.0f}dm \\n{:.0f}cm \\n{:.0f}mm'.format(n, km, hm, dam, dm, cm, mm))"
   ]
  },
  {
   "attachments": {},
   "cell_type": "markdown",
   "metadata": {},
   "source": [
    "# Faça um programa que leia um número inteiro qualquer e mostre na tela a sua tabuada."
   ]
  },
  {
   "cell_type": "code",
   "execution_count": 21,
   "metadata": {},
   "outputs": [
    {
     "name": "stdout",
     "output_type": "stream",
     "text": [
      "--------------\n",
      "9 x 1 = 9 \n",
      "9 x 2 = 18 \n",
      "9 x 3 = 27 \n",
      "9 x 4 = 36 \n",
      "9 x 5 = 45 \n",
      "9 x 6 = 54 \n",
      "9 x 7 = 63 \n",
      "9 x 8 = 72\n",
      "9 x 9 = 81 \n",
      "9 x 10 = 90\n",
      "--------------\n"
     ]
    }
   ],
   "source": [
    "n = int(input('Digite um número para ver sua tabuada:'))\n",
    "print('-' * 14)\n",
    "print('{} x 1 = {} \\n{} x 2 = {} \\n{} x 3 = {} \\n{} x 4 = {} \\n{} x 5 = {} \\n{} x 6 = {} \\n{} x 7 = {} \\n{} x 8 = {}'\n",
    "    '\\n{} x 9 = {} \\n{} x 10 = {}'.format(n, (n*1), n, (n*2), n, (n*3), n, (n*4), n, (n*5), n, (n*6), n, (n*7), n, (n*8), n, (n*9), n, (n*10)))\n",
    "print('-' * 14)\n"
   ]
  },
  {
   "attachments": {},
   "cell_type": "markdown",
   "metadata": {},
   "source": [
    "# Crie um programa que leia quanto dinheiro uma pessoa tem na carteira, e mostre quantos Dólares ela pode comprar.\n",
    "Considere US$1,00 = R$3,27"
   ]
  },
  {
   "cell_type": "code",
   "execution_count": 22,
   "metadata": {},
   "outputs": [
    {
     "name": "stdout",
     "output_type": "stream",
     "text": [
      "Com R$80.00 você pode comprar US$15.09\n"
     ]
    }
   ],
   "source": [
    "n = int(input('Quanto dinheiro você tem na carteira? R$'))\n",
    "print('Com R${:.2f} você pode comprar US${:.2f}'.format(n, (n / 5.30)))\n"
   ]
  }
 ],
 "metadata": {
  "kernelspec": {
   "display_name": "venv",
   "language": "python",
   "name": "python3"
  },
  "language_info": {
   "codemirror_mode": {
    "name": "ipython",
    "version": 3
   },
   "file_extension": ".py",
   "mimetype": "text/x-python",
   "name": "python",
   "nbconvert_exporter": "python",
   "pygments_lexer": "ipython3",
   "version": "3.10.7"
  },
  "orig_nbformat": 4
 },
 "nbformat": 4,
 "nbformat_minor": 2
}
